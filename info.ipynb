{
  "nbformat": 4,
  "nbformat_minor": 0,
  "metadata": {
    "colab": {
      "provenance": [],
      "toc_visible": true,
      "authorship_tag": "ABX9TyMF+oZe6KSwA/CXC/3V6Y/8",
      "include_colab_link": true
    },
    "kernelspec": {
      "name": "python3",
      "display_name": "Python 3"
    },
    "language_info": {
      "name": "python"
    }
  },
  "cells": [
    {
      "cell_type": "markdown",
      "metadata": {
        "id": "view-in-github",
        "colab_type": "text"
      },
      "source": [
        "<a href=\"https://colab.research.google.com/github/arnalb/Econ-753/blob/main/info.ipynb\" target=\"_parent\"><img src=\"https://colab.research.google.com/assets/colab-badge.svg\" alt=\"Open In Colab\"/></a>"
      ]
    },
    {
      "cell_type": "code",
      "execution_count": 8,
      "metadata": {
        "colab": {
          "base_uri": "https://localhost:8080/",
          "height": 104
        },
        "id": "gAiDtiNfEdzc",
        "outputId": "e44b3140-540f-44f5-9c2e-51bdce31f01d"
      },
      "outputs": [
        {
          "output_type": "execute_result",
          "data": {
            "text/plain": [
              "'\\n# Convertir el tipo de datos de la columna \\'cve_geo_ent\\' en ambos DataFrames\\ndf_promedio[\\'cve_geo_ent\\'] = df_promedio[\\'cve_geo_ent\\'].astype(int)\\ndf_geometry[\\'cve_geo_ent\\'] = df_geometry[\\'cve_geo_ent\\'].astype(int)\\n\\n# Combinar los DataFrames por la columna \\'cve_geo_ent\\'\\ndf_final = df_promedio.merge(df_geometry, on =\\'cve_geo_ent\\', how=\\'inner\\')\\npd.set_option(\\'display.max_columns\\', None)\\n#print(df_final)\\n\\n#df_final.to_csv(\"informacion.csv\", index = False)\\n'"
            ],
            "application/vnd.google.colaboratory.intrinsic+json": {
              "type": "string"
            }
          },
          "metadata": {},
          "execution_count": 8
        }
      ],
      "source": [
        "import matplotlib as plt\n",
        "import pandas as pd\n",
        "import geopandas as gpd\n",
        "from mapsmx import *\n",
        "\n",
        "def getCoordenadasMex():\n",
        "    state = MapsMX().get_geo('state')\n",
        "    state_w_centroids = MapsMX().get_geo('state', add_centroids=True)\n",
        "    muns = MapsMX().get_geo('municipality')\n",
        "    muns_w_centroids = MapsMX().get_geo('municipality', add_centroids=True)\n",
        "\n",
        "    return state\n",
        "\n",
        "data=pd.read_csv('archivo3.csv')\n",
        "#print(data)\n",
        "\n",
        "#datosfiltrado = data.filter(regex='(ID_PER)'|'ENT'|'NOM_ENT'|'P4_2A')\n",
        "datos_filtrado = data.filter(regex='ID_PER|ENT|P4_2A')\n",
        "#print(datos_filtrado)\n",
        "\n",
        "\"\"\"\n",
        "datos_filtrado = datos_filtrado.rename(columns = {'ENT':'cve_geo_ent'})\n",
        "#print(datos_filtrado)\n",
        "coordMx = getCoordenadasMex()\n",
        "\n",
        "dfCoordMx = pd.DataFrame(coordMx)\n",
        "\n",
        "dfFinal = datos_filtrado.merge(dfCoordMx, on='cve_geo_ent')\n",
        "\"\"\"\n",
        "\n",
        "datos_interes = {}\n",
        "total_estado = {}\n",
        "promedio_estado = {}\n",
        "for i in range(1,33):\n",
        "    datos_interes[i] = 0\n",
        "    total_estado[i] = 0\n",
        "#print(data['P4_2A'])\n",
        "\n",
        "\"\"\"\n",
        "\n",
        "for data['P4_2A'] in datos_filtrado:\n",
        "    if int(data['P4_2A']) > 3 and int(data['P4_2A']) < 7:\n",
        "        dic[datos_filtrado['ENT']] += 1\n",
        "\"\"\"\n",
        "for valor, id_estado in zip(datos_filtrado['P4_2A'], datos_filtrado['ENT']):\n",
        "    total_estado[id_estado] += 1\n",
        "    if valor > 3 and valor < 7:\n",
        "        datos_interes[id_estado] += 1\n",
        "\n",
        "\n",
        "for i in range(1,33):\n",
        "    if total_estado[i] != 0:\n",
        "        promedio_estado[i] = datos_interes[i]/total_estado[i]\n",
        "\n",
        "\"\"\"\n",
        "print(promedio_estado)\n",
        "\n",
        "dfPromedioEstado = pd.DataFrame(promedio_estado)\n",
        "coordMx = getCoordenadasMex()\n",
        "dfCoordMx = pd.DataFrame(coordMx)\n",
        "dfFinal = dfPromedioEstado.merge(dfCoordMx)\n",
        "print(dfPromedioEstado)\n",
        "\n",
        "dfPromedio_estado = pd.DataFrame(promedio_estado.values(), columns=['promedio'])\n",
        "dfPromedio_estado.index = promedio_estado.keys()\n",
        "dfPromedio_estado.index.name = 'id_estado'\n",
        "\"\"\"\n",
        "dfPromedio_estado = pd.DataFrame(promedio_estado.items(), columns=['cve_geo_ent', 'promedio'])\n",
        "\n",
        "#print(dfPromedio_estado)\n",
        "#dfPromedio_estado = dfPromedio_estado.rename(columns = {'id_estado':'cve_geo_ent'})\n",
        "coordMx = getCoordenadasMex()\n",
        "dfCoordMx = pd.DataFrame(coordMx)\n",
        "#print(dfCoordMx)\n",
        "#dfFinal = dfPromedio_estado.merge(dfCoordMx, left_on='cve_geo_ent', right_on='cve_geo_ent')\n",
        "#print(dfFinal)\n",
        "\n",
        "# Convertir los datos en DataFrames\n",
        "df_promedio = pd.DataFrame(dfPromedio_estado)\n",
        "#df_geometry = pd.DataFrame(dfCoordMx)\n",
        "\n",
        "df_promedio.to_csv(\"promedio.csv\", index = False)\n",
        "\n",
        "\n",
        "\"\"\"\n",
        "# Convertir el tipo de datos de la columna 'cve_geo_ent' en ambos DataFrames\n",
        "df_promedio['cve_geo_ent'] = df_promedio['cve_geo_ent'].astype(int)\n",
        "df_geometry['cve_geo_ent'] = df_geometry['cve_geo_ent'].astype(int)\n",
        "\n",
        "# Combinar los DataFrames por la columna 'cve_geo_ent'\n",
        "df_final = df_promedio.merge(df_geometry, on ='cve_geo_ent', how='inner')\n",
        "pd.set_option('display.max_columns', None)\n",
        "#print(df_final)\n",
        "\n",
        "#df_final.to_csv(\"informacion.csv\", index = False)\n",
        "\"\"\""
      ]
    }
  ]
}